{
 "cells": [
  {
   "cell_type": "code",
   "execution_count": 1,
   "id": "3fd64773-259e-4f8b-8eb5-cd140dcd771d",
   "metadata": {},
   "outputs": [],
   "source": [
    "from flask import Flask, render_template"
   ]
  },
  {
   "cell_type": "code",
   "execution_count": 2,
   "id": "166ba8b7-219a-4ba3-9b2b-8e8f224adeb3",
   "metadata": {},
   "outputs": [],
   "source": [
    "app = Flask(__name__)\n",
    "\n",
    "# Create a default Hello, World\n",
    "@app.route('/', methods=['GET', 'POST'])\n",
    "def base():\n",
    "    return render_template('index.html')\n",
    "\n",
    "# Base webpage\n",
    "@app.route('/search', methods=['GET', 'POST'])\n",
    "def search():\n",
    "    form = SearchForm()\n",
    "    if request.method == 'POST' and form.validate_on_submit():\n",
    "        return redirect((url_for('search_results', query=form.search.data)))  # or what you want\n",
    "    return render_template('search.html', form=form)\n",
    "\n"
   ]
  },
  {
   "cell_type": "code",
   "execution_count": 3,
   "id": "ec04e223-00ff-41f4-a903-7af54b61d5e2",
   "metadata": {},
   "outputs": [
    {
     "name": "stdout",
     "output_type": "stream",
     "text": [
      " * Serving Flask app '__main__' (lazy loading)\n",
      " * Environment: production\n",
      "\u001b[31m   WARNING: This is a development server. Do not use it in a production deployment.\u001b[0m\n",
      "\u001b[2m   Use a production WSGI server instead.\u001b[0m\n",
      " * Debug mode: off\n"
     ]
    },
    {
     "name": "stderr",
     "output_type": "stream",
     "text": [
      " * Running on all addresses.\n",
      "   WARNING: This is a development server. Do not use it in a production deployment.\n",
      " * Running on http://10.0.0.190:8080/ (Press CTRL+C to quit)\n",
      "10.0.0.190 - - [24/Dec/2021 16:50:01] \"GET / HTTP/1.1\" 200 -\n",
      "10.0.0.190 - - [24/Dec/2021 16:50:02] \"GET /static/css/nicepage.css HTTP/1.1\" 404 -\n",
      "10.0.0.190 - - [24/Dec/2021 16:50:02] \"GET /static/css/Home.css HTTP/1.1\" 404 -\n",
      "10.0.0.190 - - [24/Dec/2021 16:50:02] \"GET /static/img/logo.png HTTP/1.1\" 404 -\n",
      "10.0.0.190 - - [24/Dec/2021 16:50:02] \"GET /favicon.ico HTTP/1.1\" 404 -\n",
      "10.0.0.190 - - [24/Dec/2021 16:50:11] \"GET /?search= HTTP/1.1\" 200 -\n",
      "10.0.0.190 - - [24/Dec/2021 16:50:11] \"GET /static/css/nicepage.css HTTP/1.1\" 404 -\n",
      "10.0.0.190 - - [24/Dec/2021 16:50:11] \"GET /static/css/Home.css HTTP/1.1\" 404 -\n",
      "10.0.0.190 - - [24/Dec/2021 16:50:11] \"GET /static/img/logo.png HTTP/1.1\" 404 -\n",
      "10.0.0.190 - - [24/Dec/2021 16:50:20] \"GET /?search=Ukraine HTTP/1.1\" 200 -\n",
      "10.0.0.190 - - [24/Dec/2021 16:50:20] \"GET /static/css/nicepage.css HTTP/1.1\" 404 -\n",
      "10.0.0.190 - - [24/Dec/2021 16:50:20] \"GET /static/css/Home.css HTTP/1.1\" 404 -\n",
      "10.0.0.190 - - [24/Dec/2021 16:50:20] \"GET /static/img/logo.png HTTP/1.1\" 404 -\n"
     ]
    }
   ],
   "source": [
    "if __name__ == '__main__':\n",
    "    app.run(host='0.0.0.0', port=8080)"
   ]
  },
  {
   "cell_type": "code",
   "execution_count": null,
   "id": "86db5ad3-0506-4907-96e8-3a349bf61b29",
   "metadata": {},
   "outputs": [],
   "source": []
  }
 ],
 "metadata": {
  "kernelspec": {
   "display_name": "Python 3 (ipykernel)",
   "language": "python",
   "name": "python3"
  },
  "language_info": {
   "codemirror_mode": {
    "name": "ipython",
    "version": 3
   },
   "file_extension": ".py",
   "mimetype": "text/x-python",
   "name": "python",
   "nbconvert_exporter": "python",
   "pygments_lexer": "ipython3",
   "version": "3.9.7"
  }
 },
 "nbformat": 4,
 "nbformat_minor": 5
}
